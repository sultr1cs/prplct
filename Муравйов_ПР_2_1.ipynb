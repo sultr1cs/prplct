{
 "cells": [
  {
   "cell_type": "markdown",
   "id": "b8082404",
   "metadata": {},
   "source": [
    "# Муравйов Практична робота 2.1"
   ]
  },
  {
   "cell_type": "code",
   "execution_count": 19,
   "id": "75b0347b",
   "metadata": {},
   "outputs": [
    {
     "name": "stdout",
     "output_type": "stream",
     "text": [
      "     rank                    Youtuber  subscribers   video views  \\\n",
      "0       1                    T-Series    245000000  2.280000e+11   \n",
      "1       2              YouTube Movies    170000000  0.000000e+00   \n",
      "2       3                     MrBeast    166000000  2.836884e+10   \n",
      "3       4  Cocomelon - Nursery Rhymes    162000000  1.640000e+11   \n",
      "4       5                   SET India    159000000  1.480000e+11   \n",
      "..    ...                         ...          ...           ...   \n",
      "990   991               Natan por Aï¿     12300000  9.029610e+09   \n",
      "991   992    Free Fire India Official     12300000  1.674410e+09   \n",
      "992   993                       Panda     12300000  2.214684e+09   \n",
      "993   994                 RobTopGames     12300000  3.741235e+08   \n",
      "994   995                Make Joke Of     12300000  2.129774e+09   \n",
      "\n",
      "             category                       Title  uploads         Country  \\\n",
      "0               Music                    T-Series    20082           India   \n",
      "1    Film & Animation               youtubemovies        1   United States   \n",
      "2       Entertainment                     MrBeast      741   United States   \n",
      "3           Education  Cocomelon - Nursery Rhymes      966   United States   \n",
      "4               Shows                   SET India   116536           India   \n",
      "..                ...                         ...      ...             ...   \n",
      "990            Sports               Natan por Aï¿     1200          Brazil   \n",
      "991    People & Blogs    Free Fire India Official     1500           India   \n",
      "992               NaN                 HybridPanda     2452  United Kingdom   \n",
      "993            Gaming                 RobTopGames       39          Sweden   \n",
      "994            Comedy                Make Joke Of       62           India   \n",
      "\n",
      "    Abbreviation   channel_type  ...  subscribers_for_last_30_days  \\\n",
      "0             IN          Music  ...                     2000000.0   \n",
      "1             US          Games  ...                           NaN   \n",
      "2             US  Entertainment  ...                     8000000.0   \n",
      "3             US      Education  ...                     1000000.0   \n",
      "4             IN  Entertainment  ...                     1000000.0   \n",
      "..           ...            ...  ...                           ...   \n",
      "990           BR  Entertainment  ...                      700000.0   \n",
      "991           IN          Games  ...                      300000.0   \n",
      "992           GB          Games  ...                        1000.0   \n",
      "993           SE          Games  ...                      100000.0   \n",
      "994           IN         Comedy  ...                      100000.0   \n",
      "\n",
      "     created_year  created_month  created_date  \\\n",
      "0          2006.0            Mar          13.0   \n",
      "1          2006.0            Mar           5.0   \n",
      "2          2012.0            Feb          20.0   \n",
      "3          2006.0            Sep           1.0   \n",
      "4          2006.0            Sep          20.0   \n",
      "..            ...            ...           ...   \n",
      "990        2017.0            Feb          12.0   \n",
      "991        2018.0            Sep          14.0   \n",
      "992        2006.0            Sep          11.0   \n",
      "993        2012.0            May           9.0   \n",
      "994        2017.0            Aug           1.0   \n",
      "\n",
      "     Gross tertiary education enrollment (%)    Population  Unemployment rate  \\\n",
      "0                                       28.1  1.366418e+09               5.36   \n",
      "1                                       88.2  3.282395e+08              14.70   \n",
      "2                                       88.2  3.282395e+08              14.70   \n",
      "3                                       88.2  3.282395e+08              14.70   \n",
      "4                                       28.1  1.366418e+09               5.36   \n",
      "..                                       ...           ...                ...   \n",
      "990                                     51.3  2.125594e+08              12.08   \n",
      "991                                     28.1  1.366418e+09               5.36   \n",
      "992                                     60.0  6.683440e+07               3.85   \n",
      "993                                     67.0  1.028545e+07               6.48   \n",
      "994                                     28.1  1.366418e+09               5.36   \n",
      "\n",
      "     Urban_population   Latitude  Longitude  \n",
      "0         471031528.0  20.593684  78.962880  \n",
      "1         270663028.0  37.090240 -95.712891  \n",
      "2         270663028.0  37.090240 -95.712891  \n",
      "3         270663028.0  37.090240 -95.712891  \n",
      "4         471031528.0  20.593684  78.962880  \n",
      "..                ...        ...        ...  \n",
      "990       183241641.0 -14.235004 -51.925280  \n",
      "991       471031528.0  20.593684  78.962880  \n",
      "992        55908316.0  55.378051  -3.435973  \n",
      "993         9021165.0  60.128161  18.643501  \n",
      "994       471031528.0  20.593684  78.962880  \n",
      "\n",
      "[995 rows x 28 columns]\n"
     ]
    }
   ],
   "source": [
    "#task 1\n",
    "import pandas as pd\n",
    "file = pd.read_csv('Global YouTube Statistics.csv', encoding = 'latin1')\n",
    "print(file)"
   ]
  },
  {
   "cell_type": "code",
   "execution_count": 23,
   "id": "0d54a70f",
   "metadata": {},
   "outputs": [
    {
     "name": "stdout",
     "output_type": "stream",
     "text": [
      "   rank                    Youtuber  subscribers   video views  \\\n",
      "0     1                    T-Series    245000000  2.280000e+11   \n",
      "1     2              YouTube Movies    170000000  0.000000e+00   \n",
      "2     3                     MrBeast    166000000  2.836884e+10   \n",
      "3     4  Cocomelon - Nursery Rhymes    162000000  1.640000e+11   \n",
      "4     5                   SET India    159000000  1.480000e+11   \n",
      "\n",
      "           category                       Title  uploads        Country  \\\n",
      "0             Music                    T-Series    20082          India   \n",
      "1  Film & Animation               youtubemovies        1  United States   \n",
      "2     Entertainment                     MrBeast      741  United States   \n",
      "3         Education  Cocomelon - Nursery Rhymes      966  United States   \n",
      "4             Shows                   SET India   116536          India   \n",
      "\n",
      "  Abbreviation   channel_type  ...  subscribers_for_last_30_days  \\\n",
      "0           IN          Music  ...                     2000000.0   \n",
      "1           US          Games  ...                           NaN   \n",
      "2           US  Entertainment  ...                     8000000.0   \n",
      "3           US      Education  ...                     1000000.0   \n",
      "4           IN  Entertainment  ...                     1000000.0   \n",
      "\n",
      "   created_year  created_month  created_date  \\\n",
      "0        2006.0            Mar          13.0   \n",
      "1        2006.0            Mar           5.0   \n",
      "2        2012.0            Feb          20.0   \n",
      "3        2006.0            Sep           1.0   \n",
      "4        2006.0            Sep          20.0   \n",
      "\n",
      "   Gross tertiary education enrollment (%)    Population  Unemployment rate  \\\n",
      "0                                     28.1  1.366418e+09               5.36   \n",
      "1                                     88.2  3.282395e+08              14.70   \n",
      "2                                     88.2  3.282395e+08              14.70   \n",
      "3                                     88.2  3.282395e+08              14.70   \n",
      "4                                     28.1  1.366418e+09               5.36   \n",
      "\n",
      "   Urban_population   Latitude  Longitude  \n",
      "0       471031528.0  20.593684  78.962880  \n",
      "1       270663028.0  37.090240 -95.712891  \n",
      "2       270663028.0  37.090240 -95.712891  \n",
      "3       270663028.0  37.090240 -95.712891  \n",
      "4       471031528.0  20.593684  78.962880  \n",
      "\n",
      "[5 rows x 28 columns]\n"
     ]
    }
   ],
   "source": [
    "#task 2\n",
    "file = pd.read_csv('Global YouTube Statistics.csv', encoding = 'latin1')\n",
    "print(file.head(5))"
   ]
  },
  {
   "cell_type": "code",
   "execution_count": 24,
   "id": "4db1a4a9",
   "metadata": {},
   "outputs": [
    {
     "name": "stdout",
     "output_type": "stream",
     "text": [
      "(995, 28)\n"
     ]
    }
   ],
   "source": [
    "#task 3\n",
    "file = pd.read_csv('Global YouTube Statistics.csv', encoding = 'latin1')\n",
    "print(file.shape)"
   ]
  },
  {
   "cell_type": "code",
   "execution_count": 49,
   "id": "04633db1",
   "metadata": {},
   "outputs": [
    {
     "name": "stdout",
     "output_type": "stream",
     "text": [
      "кількість пропусків у кожному стовпці: \n",
      " rank                                        0.000000\n",
      "Youtuber                                    0.000000\n",
      "subscribers                                 0.000000\n",
      "video views                                 0.000000\n",
      "category                                    4.623116\n",
      "Title                                       0.000000\n",
      "uploads                                     0.000000\n",
      "Country                                    12.261307\n",
      "Abbreviation                               12.261307\n",
      "channel_type                                3.015075\n",
      "video_views_rank                            0.100503\n",
      "country_rank                               11.658291\n",
      "channel_type_rank                           3.316583\n",
      "video_views_for_the_last_30_days            5.628141\n",
      "lowest_monthly_earnings                     0.000000\n",
      "highest_monthly_earnings                    0.000000\n",
      "lowest_yearly_earnings                      0.000000\n",
      "highest_yearly_earnings                     0.000000\n",
      "subscribers_for_last_30_days               33.869347\n",
      "created_year                                0.502513\n",
      "created_month                               0.502513\n",
      "created_date                                0.502513\n",
      "Gross tertiary education enrollment (%)    12.361809\n",
      "Population                                 12.361809\n",
      "Unemployment rate                          12.361809\n",
      "Urban_population                           12.361809\n",
      "Latitude                                   12.361809\n",
      "Longitude                                  12.361809\n",
      "dtype: float64\n"
     ]
    }
   ],
   "source": [
    "#task 4-6\n",
    "missing_data = file.isna().sum()/len(file)*100\n",
    "print('кількість пропусків у кожному стовпці: \\n', missing_data)\n"
   ]
  },
  {
   "cell_type": "code",
   "execution_count": 53,
   "id": "8262d858",
   "metadata": {},
   "outputs": [
    {
     "name": "stdout",
     "output_type": "stream",
     "text": [
      "Кількість унікальних країн:\n",
      " 49\n"
     ]
    }
   ],
   "source": [
    "#task 7\n",
    "unique_countries = file['Country'].nunique()\n",
    "print(\"Кількість унікальних країн:\\n\", unique_countries)"
   ]
  },
  {
   "cell_type": "code",
   "execution_count": 56,
   "id": "c5de27eb",
   "metadata": {},
   "outputs": [
    {
     "data": {
      "text/plain": [
       "<AxesSubplot:title={'center':'розподіл переглядів'}, ylabel='Frequency'>"
      ]
     },
     "execution_count": 56,
     "metadata": {},
     "output_type": "execute_result"
    },
    {
     "data": {
      "image/png": "[encoded data removed]",
      "text/plain": [
       "<Figure size 432x288 with 1 Axes>"
      ]
     },
     "metadata": {
      "needs_background": "light"
     },
     "output_type": "display_data"
    }
   ],
   "source": [
    "#task 8 \n",
    "file['video views'].plot(kind = 'hist', title = 'розподіл переглядів', color = 'purple')"
   ]
  },
  {
   "cell_type": "code",
   "execution_count": 59,
   "id": "bc81c3cd",
   "metadata": {},
   "outputs": [
    {
     "name": "stdout",
     "output_type": "stream",
     "text": [
      "Кількість переглядів \n",
      "Максимальна : 228000000000.0 \n",
      "Мінімальна : 0.0 \n",
      "Середня : 11039537052.03819\n"
     ]
    }
   ],
   "source": [
    "#task 9\n",
    "maxviews = file['video views'].max()\n",
    "minviews = file['video views'].min()\n",
    "meanviews = file['video views'].mean()\n",
    "message = f\"Кількість переглядів \\nМаксимальна : {maxviews} \\nМінімальна : {minviews} \\nСередня : {meanviews}\"\n",
    "print(message)"
   ]
  },
  {
   "cell_type": "code",
   "execution_count": 63,
   "id": "ed52bcd4",
   "metadata": {},
   "outputs": [
    {
     "name": "stdout",
     "output_type": "stream",
     "text": [
      "Країна з найбільшою кількістю опублікованих відео: United States\n"
     ]
    }
   ],
   "source": [
    "#task 10\n",
    "max_vid_country = file[\"Country\"].value_counts().idxmax()\n",
    "print(\"Країна з найбільшою кількістю опублікованих відео:\", max_vid_country)"
   ]
  },
  {
   "cell_type": "code",
   "execution_count": 73,
   "id": "51611f35",
   "metadata": {},
   "outputs": [
    {
     "name": "stdout",
     "output_type": "stream",
     "text": [
      "ABP NEWS\n"
     ]
    }
   ],
   "source": [
    "#task 11\n",
    "max_uploads_id = file.loc[file['uploads'].idxmax()]\n",
    "most_views_title = max_uploads_id['Title'] \n",
    "print(most_views_title)"
   ]
  },
  {
   "cell_type": "code",
   "execution_count": null,
   "id": "7a4cb086",
   "metadata": {},
   "outputs": [],
   "source": []
  }
 ],
 "metadata": {
  "kernelspec": {
   "display_name": "Python 3 (ipykernel)",
   "language": "python",
   "name": "python3"
  },
  "language_info": {
   "codemirror_mode": {
    "name": "ipython",
    "version": 3
   },
   "file_extension": ".py",
   "mimetype": "text/x-python",
   "name": "python",
   "nbconvert_exporter": "python",
   "pygments_lexer": "ipython3",
   "version": "3.9.10"
  }
 },
 "nbformat": 4,
 "nbformat_minor": 5
}
